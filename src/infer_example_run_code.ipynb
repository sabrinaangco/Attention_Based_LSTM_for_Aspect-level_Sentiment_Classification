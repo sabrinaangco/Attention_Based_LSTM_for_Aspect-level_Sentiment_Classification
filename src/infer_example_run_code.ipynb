{
 "cells": [
  {
   "cell_type": "code",
   "execution_count": 2,
   "id": "respiratory-reminder",
   "metadata": {},
   "outputs": [],
   "source": [
    "from infer_example import *"
   ]
  },
  {
   "cell_type": "code",
   "execution_count": 3,
   "id": "provincial-stock",
   "metadata": {},
   "outputs": [
    {
     "name": "stdout",
     "output_type": "stream",
     "text": [
      "loading tokenizer: restaurant_tokenizer.dat\n",
      "loading embedding_matrix: 300_restaurant_embedding_matrix.dat\n",
      "loading model atae_lstm ...\n",
      "[[0.46267083 0.07902224 0.45830697]]\n",
      "[-1]\n"
     ]
    }
   ],
   "source": [
    "run_infer_example(\"The good price, but the service is bad\", \"service\",  n_model = 'atae_lstm', n_dataset = 'restaurant', model_file = 'atae_lstm_restaurant_val_acc_0.7411_e8')"
   ]
  },
  {
   "cell_type": "code",
   "execution_count": 4,
   "id": "undefined-awareness",
   "metadata": {},
   "outputs": [
    {
     "name": "stdout",
     "output_type": "stream",
     "text": [
      "loading tokenizer: restaurant_tokenizer.dat\n",
      "loading embedding_matrix: 300_restaurant_embedding_matrix.dat\n",
      "loading model atae_lstm ...\n",
      "[[0.3487852  0.08202609 0.56918865]]\n",
      "[1]\n"
     ]
    }
   ],
   "source": [
    "run_infer_example(\"The good price, but the service is bad\", \"price\",  n_model = 'atae_lstm', n_dataset = 'restaurant', model_file = 'atae_lstm_restaurant_val_acc_0.7411_e8')"
   ]
  },
  {
   "cell_type": "code",
   "execution_count": null,
   "id": "sharp-temperature",
   "metadata": {},
   "outputs": [],
   "source": []
  }
 ],
 "metadata": {
  "kernelspec": {
   "display_name": "Python 3",
   "language": "python",
   "name": "python3"
  },
  "language_info": {
   "codemirror_mode": {
    "name": "ipython",
    "version": 3
   },
   "file_extension": ".py",
   "mimetype": "text/x-python",
   "name": "python",
   "nbconvert_exporter": "python",
   "pygments_lexer": "ipython3",
   "version": "3.9.2"
  }
 },
 "nbformat": 4,
 "nbformat_minor": 5
}
